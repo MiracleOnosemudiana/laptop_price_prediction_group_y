{
  "cells": [
    {
      "cell_type": "code",
      "execution_count": 1,
      "id": "76eda14c",
      "metadata": {
        "id": "76eda14c"
      },
      "outputs": [],
      "source": [
        "# import relevant libraries\n",
        "import pandas as pd\n",
        "from sklearn.model_selection import train_test_split as split\n",
        "from sklearn.linear_model import LinearRegression"
      ]
    },
    {
      "cell_type": "code",
      "execution_count": 2,
      "id": "04f4c625",
      "metadata": {
        "id": "04f4c625"
      },
      "outputs": [],
      "source": [
        "# read the final feature-engineered dataset\n",
        "df = pd.read_csv(\"../data/final/laptops_feature_engineered.csv\")"
      ]
    },
    {
      "cell_type": "code",
      "execution_count": 3,
      "id": "aed8697f",
      "metadata": {
        "id": "aed8697f",
        "outputId": "9ddaebc5-ae3b-4a1f-d01d-e71c13746ddd"
      },
      "outputs": [
        {
          "data": {
            "application/vnd.microsoft.datawrangler.viewer.v0+json": {
              "columns": [
                {
                  "name": "index",
                  "rawType": "int64",
                  "type": "integer"
                },
                {
                  "name": "Inches",
                  "rawType": "float64",
                  "type": "float"
                },
                {
                  "name": "Price_euros",
                  "rawType": "float64",
                  "type": "float"
                },
                {
                  "name": "Ram (GB)",
                  "rawType": "int64",
                  "type": "integer"
                },
                {
                  "name": "Weight (kg)",
                  "rawType": "float64",
                  "type": "float"
                },
                {
                  "name": "HDD (GB)",
                  "rawType": "float64",
                  "type": "float"
                },
                {
                  "name": "SSD (GB)",
                  "rawType": "float64",
                  "type": "float"
                },
                {
                  "name": "Hybrid (GB)",
                  "rawType": "float64",
                  "type": "float"
                },
                {
                  "name": "Flash Storage (GB)",
                  "rawType": "float64",
                  "type": "float"
                },
                {
                  "name": "Total_Storage (GB)",
                  "rawType": "float64",
                  "type": "float"
                },
                {
                  "name": "Screen_Width",
                  "rawType": "int64",
                  "type": "integer"
                },
                {
                  "name": "Screen_Height",
                  "rawType": "int64",
                  "type": "integer"
                },
                {
                  "name": "Touchscreen",
                  "rawType": "int64",
                  "type": "integer"
                },
                {
                  "name": "Cpu_Speed_GHz",
                  "rawType": "float64",
                  "type": "float"
                },
                {
                  "name": "Company_Apple",
                  "rawType": "bool",
                  "type": "boolean"
                },
                {
                  "name": "Company_Asus",
                  "rawType": "bool",
                  "type": "boolean"
                },
                {
                  "name": "Company_Chuwi",
                  "rawType": "bool",
                  "type": "boolean"
                },
                {
                  "name": "Company_Dell",
                  "rawType": "bool",
                  "type": "boolean"
                },
                {
                  "name": "Company_Fujitsu",
                  "rawType": "bool",
                  "type": "boolean"
                },
                {
                  "name": "Company_Google",
                  "rawType": "bool",
                  "type": "boolean"
                },
                {
                  "name": "Company_HP",
                  "rawType": "bool",
                  "type": "boolean"
                },
                {
                  "name": "Company_Huawei",
                  "rawType": "bool",
                  "type": "boolean"
                },
                {
                  "name": "Company_LG",
                  "rawType": "bool",
                  "type": "boolean"
                },
                {
                  "name": "Company_Lenovo",
                  "rawType": "bool",
                  "type": "boolean"
                },
                {
                  "name": "Company_MSI",
                  "rawType": "bool",
                  "type": "boolean"
                },
                {
                  "name": "Company_Mediacom",
                  "rawType": "bool",
                  "type": "boolean"
                },
                {
                  "name": "Company_Microsoft",
                  "rawType": "bool",
                  "type": "boolean"
                },
                {
                  "name": "Company_Razer",
                  "rawType": "bool",
                  "type": "boolean"
                },
                {
                  "name": "Company_Samsung",
                  "rawType": "bool",
                  "type": "boolean"
                },
                {
                  "name": "Company_Toshiba",
                  "rawType": "bool",
                  "type": "boolean"
                },
                {
                  "name": "Company_Vero",
                  "rawType": "bool",
                  "type": "boolean"
                },
                {
                  "name": "Company_Xiaomi",
                  "rawType": "bool",
                  "type": "boolean"
                },
                {
                  "name": "TypeName_Gaming",
                  "rawType": "bool",
                  "type": "boolean"
                },
                {
                  "name": "TypeName_Netbook",
                  "rawType": "bool",
                  "type": "boolean"
                },
                {
                  "name": "TypeName_Notebook",
                  "rawType": "bool",
                  "type": "boolean"
                },
                {
                  "name": "TypeName_Ultrabook",
                  "rawType": "bool",
                  "type": "boolean"
                },
                {
                  "name": "TypeName_Workstation",
                  "rawType": "bool",
                  "type": "boolean"
                },
                {
                  "name": "OpSys_Clean_Chrome OS",
                  "rawType": "bool",
                  "type": "boolean"
                },
                {
                  "name": "OpSys_Clean_Linux",
                  "rawType": "bool",
                  "type": "boolean"
                },
                {
                  "name": "OpSys_Clean_MacOS",
                  "rawType": "bool",
                  "type": "boolean"
                },
                {
                  "name": "OpSys_Clean_No OS",
                  "rawType": "bool",
                  "type": "boolean"
                },
                {
                  "name": "OpSys_Clean_Windows",
                  "rawType": "bool",
                  "type": "boolean"
                },
                {
                  "name": "Cpu_Brand_Intel",
                  "rawType": "bool",
                  "type": "boolean"
                },
                {
                  "name": "Cpu_Brand_Samsung",
                  "rawType": "bool",
                  "type": "boolean"
                },
                {
                  "name": "Gpu_Brand_ARM",
                  "rawType": "bool",
                  "type": "boolean"
                },
                {
                  "name": "Gpu_Brand_Intel",
                  "rawType": "bool",
                  "type": "boolean"
                },
                {
                  "name": "Gpu_Brand_Nvidia",
                  "rawType": "bool",
                  "type": "boolean"
                },
                {
                  "name": "Cpu_Name_TE",
                  "rawType": "float64",
                  "type": "float"
                },
                {
                  "name": "Gpu_Name_TE",
                  "rawType": "float64",
                  "type": "float"
                },
                {
                  "name": "PPI",
                  "rawType": "float64",
                  "type": "float"
                },
                {
                  "name": "Is_High_RAM",
                  "rawType": "int64",
                  "type": "integer"
                },
                {
                  "name": "Is_SSD",
                  "rawType": "int64",
                  "type": "integer"
                },
                {
                  "name": "Cpu_Performance_Class_Num",
                  "rawType": "int64",
                  "type": "integer"
                },
                {
                  "name": "Gpu_Performance_Class_Num",
                  "rawType": "int64",
                  "type": "integer"
                },
                {
                  "name": "Gpu_Dedicated",
                  "rawType": "int64",
                  "type": "integer"
                }
              ],
              "ref": "96fe8a8f-0793-4be7-b0bf-37fc8fca5b47",
              "rows": [
                [
                  "0",
                  "13.3",
                  "1339.69",
                  "8",
                  "1.37",
                  "0.0",
                  "128.0",
                  "0.0",
                  "0.0",
                  "128.0",
                  "2560",
                  "1600",
                  "0",
                  "2.3",
                  "True",
                  "False",
                  "False",
                  "False",
                  "False",
                  "False",
                  "False",
                  "False",
                  "False",
                  "False",
                  "False",
                  "False",
                  "False",
                  "False",
                  "False",
                  "False",
                  "False",
                  "False",
                  "False",
                  "False",
                  "False",
                  "True",
                  "False",
                  "False",
                  "False",
                  "True",
                  "False",
                  "False",
                  "True",
                  "False",
                  "False",
                  "True",
                  "False",
                  "1391.9483333333335",
                  "1764.01125",
                  "226.98300468106115",
                  "0",
                  "1",
                  "1",
                  "1",
                  "0"
                ],
                [
                  "1",
                  "13.3",
                  "898.94",
                  "8",
                  "1.34",
                  "0.0",
                  "0.0",
                  "0.0",
                  "128.0",
                  "128.0",
                  "1440",
                  "900",
                  "0",
                  "1.8",
                  "True",
                  "False",
                  "False",
                  "False",
                  "False",
                  "False",
                  "False",
                  "False",
                  "False",
                  "False",
                  "False",
                  "False",
                  "False",
                  "False",
                  "False",
                  "False",
                  "False",
                  "False",
                  "False",
                  "False",
                  "False",
                  "True",
                  "False",
                  "False",
                  "False",
                  "True",
                  "False",
                  "False",
                  "True",
                  "False",
                  "False",
                  "True",
                  "False",
                  "1391.9483333333335",
                  "1022.728",
                  "127.67794013309688",
                  "0",
                  "0",
                  "1",
                  "0",
                  "0"
                ],
                [
                  "2",
                  "15.6",
                  "575.0",
                  "8",
                  "1.86",
                  "0.0",
                  "256.0",
                  "0.0",
                  "0.0",
                  "256.0",
                  "1920",
                  "1080",
                  "0",
                  "2.5",
                  "False",
                  "False",
                  "False",
                  "False",
                  "False",
                  "False",
                  "True",
                  "False",
                  "False",
                  "False",
                  "False",
                  "False",
                  "False",
                  "False",
                  "False",
                  "False",
                  "False",
                  "False",
                  "False",
                  "False",
                  "True",
                  "False",
                  "False",
                  "False",
                  "False",
                  "False",
                  "True",
                  "False",
                  "True",
                  "False",
                  "False",
                  "True",
                  "False",
                  "919.3180829015544",
                  "1141.0898226950355",
                  "141.21199808219862",
                  "0",
                  "1",
                  "1",
                  "0",
                  "0"
                ],
                [
                  "3",
                  "15.4",
                  "2537.45",
                  "16",
                  "1.83",
                  "0.0",
                  "512.0",
                  "0.0",
                  "0.0",
                  "512.0",
                  "2880",
                  "1800",
                  "0",
                  "2.7",
                  "True",
                  "False",
                  "False",
                  "False",
                  "False",
                  "False",
                  "False",
                  "False",
                  "False",
                  "False",
                  "False",
                  "False",
                  "False",
                  "False",
                  "False",
                  "False",
                  "False",
                  "False",
                  "False",
                  "False",
                  "False",
                  "True",
                  "False",
                  "False",
                  "False",
                  "True",
                  "False",
                  "False",
                  "True",
                  "False",
                  "False",
                  "False",
                  "False",
                  "2493.8475",
                  "2537.45",
                  "220.53462386625827",
                  "1",
                  "1",
                  "2",
                  "2",
                  "1"
                ],
                [
                  "4",
                  "13.3",
                  "1803.6",
                  "8",
                  "1.37",
                  "0.0",
                  "256.0",
                  "0.0",
                  "0.0",
                  "256.0",
                  "2560",
                  "1600",
                  "0",
                  "3.1",
                  "True",
                  "False",
                  "False",
                  "False",
                  "False",
                  "False",
                  "False",
                  "False",
                  "False",
                  "False",
                  "False",
                  "False",
                  "False",
                  "False",
                  "False",
                  "False",
                  "False",
                  "False",
                  "False",
                  "False",
                  "False",
                  "True",
                  "False",
                  "False",
                  "False",
                  "True",
                  "False",
                  "False",
                  "True",
                  "False",
                  "False",
                  "True",
                  "False",
                  "1391.9483333333335",
                  "1921.8",
                  "226.98300468106115",
                  "0",
                  "1",
                  "2",
                  "1",
                  "0"
                ]
              ],
              "shape": {
                "columns": 54,
                "rows": 5
              }
            },
            "text/html": [
              "<div>\n",
              "<style scoped>\n",
              "    .dataframe tbody tr th:only-of-type {\n",
              "        vertical-align: middle;\n",
              "    }\n",
              "\n",
              "    .dataframe tbody tr th {\n",
              "        vertical-align: top;\n",
              "    }\n",
              "\n",
              "    .dataframe thead th {\n",
              "        text-align: right;\n",
              "    }\n",
              "</style>\n",
              "<table border=\"1\" class=\"dataframe\">\n",
              "  <thead>\n",
              "    <tr style=\"text-align: right;\">\n",
              "      <th></th>\n",
              "      <th>Inches</th>\n",
              "      <th>Price_euros</th>\n",
              "      <th>Ram (GB)</th>\n",
              "      <th>Weight (kg)</th>\n",
              "      <th>HDD (GB)</th>\n",
              "      <th>SSD (GB)</th>\n",
              "      <th>Hybrid (GB)</th>\n",
              "      <th>Flash Storage (GB)</th>\n",
              "      <th>Total_Storage (GB)</th>\n",
              "      <th>Screen_Width</th>\n",
              "      <th>...</th>\n",
              "      <th>Gpu_Brand_Intel</th>\n",
              "      <th>Gpu_Brand_Nvidia</th>\n",
              "      <th>Cpu_Name_TE</th>\n",
              "      <th>Gpu_Name_TE</th>\n",
              "      <th>PPI</th>\n",
              "      <th>Is_High_RAM</th>\n",
              "      <th>Is_SSD</th>\n",
              "      <th>Cpu_Performance_Class_Num</th>\n",
              "      <th>Gpu_Performance_Class_Num</th>\n",
              "      <th>Gpu_Dedicated</th>\n",
              "    </tr>\n",
              "  </thead>\n",
              "  <tbody>\n",
              "    <tr>\n",
              "      <th>0</th>\n",
              "      <td>13.3</td>\n",
              "      <td>1339.69</td>\n",
              "      <td>8</td>\n",
              "      <td>1.37</td>\n",
              "      <td>0.0</td>\n",
              "      <td>128.0</td>\n",
              "      <td>0.0</td>\n",
              "      <td>0.0</td>\n",
              "      <td>128.0</td>\n",
              "      <td>2560</td>\n",
              "      <td>...</td>\n",
              "      <td>True</td>\n",
              "      <td>False</td>\n",
              "      <td>1391.948333</td>\n",
              "      <td>1764.011250</td>\n",
              "      <td>226.983005</td>\n",
              "      <td>0</td>\n",
              "      <td>1</td>\n",
              "      <td>1</td>\n",
              "      <td>1</td>\n",
              "      <td>0</td>\n",
              "    </tr>\n",
              "    <tr>\n",
              "      <th>1</th>\n",
              "      <td>13.3</td>\n",
              "      <td>898.94</td>\n",
              "      <td>8</td>\n",
              "      <td>1.34</td>\n",
              "      <td>0.0</td>\n",
              "      <td>0.0</td>\n",
              "      <td>0.0</td>\n",
              "      <td>128.0</td>\n",
              "      <td>128.0</td>\n",
              "      <td>1440</td>\n",
              "      <td>...</td>\n",
              "      <td>True</td>\n",
              "      <td>False</td>\n",
              "      <td>1391.948333</td>\n",
              "      <td>1022.728000</td>\n",
              "      <td>127.677940</td>\n",
              "      <td>0</td>\n",
              "      <td>0</td>\n",
              "      <td>1</td>\n",
              "      <td>0</td>\n",
              "      <td>0</td>\n",
              "    </tr>\n",
              "    <tr>\n",
              "      <th>2</th>\n",
              "      <td>15.6</td>\n",
              "      <td>575.00</td>\n",
              "      <td>8</td>\n",
              "      <td>1.86</td>\n",
              "      <td>0.0</td>\n",
              "      <td>256.0</td>\n",
              "      <td>0.0</td>\n",
              "      <td>0.0</td>\n",
              "      <td>256.0</td>\n",
              "      <td>1920</td>\n",
              "      <td>...</td>\n",
              "      <td>True</td>\n",
              "      <td>False</td>\n",
              "      <td>919.318083</td>\n",
              "      <td>1141.089823</td>\n",
              "      <td>141.211998</td>\n",
              "      <td>0</td>\n",
              "      <td>1</td>\n",
              "      <td>1</td>\n",
              "      <td>0</td>\n",
              "      <td>0</td>\n",
              "    </tr>\n",
              "    <tr>\n",
              "      <th>3</th>\n",
              "      <td>15.4</td>\n",
              "      <td>2537.45</td>\n",
              "      <td>16</td>\n",
              "      <td>1.83</td>\n",
              "      <td>0.0</td>\n",
              "      <td>512.0</td>\n",
              "      <td>0.0</td>\n",
              "      <td>0.0</td>\n",
              "      <td>512.0</td>\n",
              "      <td>2880</td>\n",
              "      <td>...</td>\n",
              "      <td>False</td>\n",
              "      <td>False</td>\n",
              "      <td>2493.847500</td>\n",
              "      <td>2537.450000</td>\n",
              "      <td>220.534624</td>\n",
              "      <td>1</td>\n",
              "      <td>1</td>\n",
              "      <td>2</td>\n",
              "      <td>2</td>\n",
              "      <td>1</td>\n",
              "    </tr>\n",
              "    <tr>\n",
              "      <th>4</th>\n",
              "      <td>13.3</td>\n",
              "      <td>1803.60</td>\n",
              "      <td>8</td>\n",
              "      <td>1.37</td>\n",
              "      <td>0.0</td>\n",
              "      <td>256.0</td>\n",
              "      <td>0.0</td>\n",
              "      <td>0.0</td>\n",
              "      <td>256.0</td>\n",
              "      <td>2560</td>\n",
              "      <td>...</td>\n",
              "      <td>True</td>\n",
              "      <td>False</td>\n",
              "      <td>1391.948333</td>\n",
              "      <td>1921.800000</td>\n",
              "      <td>226.983005</td>\n",
              "      <td>0</td>\n",
              "      <td>1</td>\n",
              "      <td>2</td>\n",
              "      <td>1</td>\n",
              "      <td>0</td>\n",
              "    </tr>\n",
              "  </tbody>\n",
              "</table>\n",
              "<p>5 rows × 54 columns</p>\n",
              "</div>"
            ],
            "text/plain": [
              "   Inches  Price_euros  Ram (GB)  Weight (kg)  HDD (GB)  SSD (GB)  \\\n",
              "0    13.3      1339.69         8         1.37       0.0     128.0   \n",
              "1    13.3       898.94         8         1.34       0.0       0.0   \n",
              "2    15.6       575.00         8         1.86       0.0     256.0   \n",
              "3    15.4      2537.45        16         1.83       0.0     512.0   \n",
              "4    13.3      1803.60         8         1.37       0.0     256.0   \n",
              "\n",
              "   Hybrid (GB)  Flash Storage (GB)  Total_Storage (GB)  Screen_Width  ...  \\\n",
              "0          0.0                 0.0               128.0          2560  ...   \n",
              "1          0.0               128.0               128.0          1440  ...   \n",
              "2          0.0                 0.0               256.0          1920  ...   \n",
              "3          0.0                 0.0               512.0          2880  ...   \n",
              "4          0.0                 0.0               256.0          2560  ...   \n",
              "\n",
              "   Gpu_Brand_Intel  Gpu_Brand_Nvidia  Cpu_Name_TE  Gpu_Name_TE         PPI  \\\n",
              "0             True             False  1391.948333  1764.011250  226.983005   \n",
              "1             True             False  1391.948333  1022.728000  127.677940   \n",
              "2             True             False   919.318083  1141.089823  141.211998   \n",
              "3            False             False  2493.847500  2537.450000  220.534624   \n",
              "4             True             False  1391.948333  1921.800000  226.983005   \n",
              "\n",
              "   Is_High_RAM  Is_SSD  Cpu_Performance_Class_Num  Gpu_Performance_Class_Num  \\\n",
              "0            0       1                          1                          1   \n",
              "1            0       0                          1                          0   \n",
              "2            0       1                          1                          0   \n",
              "3            1       1                          2                          2   \n",
              "4            0       1                          2                          1   \n",
              "\n",
              "   Gpu_Dedicated  \n",
              "0              0  \n",
              "1              0  \n",
              "2              0  \n",
              "3              1  \n",
              "4              0  \n",
              "\n",
              "[5 rows x 54 columns]"
            ]
          },
          "execution_count": 3,
          "metadata": {},
          "output_type": "execute_result"
        }
      ],
      "source": [
        "df.head()"
      ]
    },
    {
      "cell_type": "code",
      "execution_count": 4,
      "id": "9134846e",
      "metadata": {
        "id": "9134846e"
      },
      "outputs": [],
      "source": [
        "# Separate independent variables (X) and dependent variable (y)\n",
        "# Features (X) and target (y)\n",
        "X = df.drop([\"Price_euros\"], axis=1)\n",
        "y = df[\"Price_euros\"]"
      ]
    },
    {
      "cell_type": "code",
      "execution_count": 5,
      "id": "e5c1b5ce",
      "metadata": {
        "id": "e5c1b5ce",
        "outputId": "b657f871-6ff3-4bf3-a4ca-f828d574374b"
      },
      "outputs": [
        {
          "name": "stdout",
          "output_type": "stream",
          "text": [
            "(1303, 53) (1303,)\n"
          ]
        }
      ],
      "source": [
        "print(X.shape, y.shape)"
      ]
    },
    {
      "cell_type": "code",
      "execution_count": 6,
      "id": "f9a22982",
      "metadata": {
        "id": "f9a22982"
      },
      "outputs": [],
      "source": [
        "X_train, X_test, y_train, y_test = split(\n",
        "    X, y, test_size=0.25, random_state=9\n",
        ")"
      ]
    },
    {
      "cell_type": "code",
      "execution_count": 7,
      "id": "b2f151ad",
      "metadata": {
        "id": "b2f151ad",
        "outputId": "2b24a0f7-43fe-4bc9-dc09-4e77241192fa"
      },
      "outputs": [
        {
          "name": "stdout",
          "output_type": "stream",
          "text": [
            "(977, 53) (977,)\n"
          ]
        }
      ],
      "source": [
        "# shape of training data\n",
        "print(X_train.shape, y_train.shape)"
      ]
    },
    {
      "cell_type": "code",
      "execution_count": 8,
      "id": "b3bfc091",
      "metadata": {
        "id": "b3bfc091",
        "outputId": "dc84cb63-682a-4b6d-a37a-675eaeacc420"
      },
      "outputs": [
        {
          "name": "stdout",
          "output_type": "stream",
          "text": [
            "(326, 53) (326,)\n"
          ]
        }
      ],
      "source": [
        "# shape of test data\n",
        "print(X_test.shape, y_test.shape)"
      ]
    },
    {
      "cell_type": "code",
      "execution_count": 9,
      "id": "cbc6b6b2",
      "metadata": {
        "id": "cbc6b6b2"
      },
      "outputs": [],
      "source": [
        "# initialize linear regression model (lrm)\n",
        "lin_reg_mod = LinearRegression()"
      ]
    },
    {
      "cell_type": "code",
      "execution_count": 10,
      "id": "3a9d5c77",
      "metadata": {
        "id": "3a9d5c77",
        "outputId": "14d9f555-2acd-4e2a-aa1e-0e7b8b40e9c1"
      },
      "outputs": [
        {
          "name": "stdout",
          "output_type": "stream",
          "text": [
            "Model training completed.\n"
          ]
        }
      ],
      "source": [
        "# Train the model on the training data\n",
        "lin_reg_mod.fit(X_train, y_train)\n",
        "print(\"Model training completed.\")"
      ]
    },
    {
      "cell_type": "code",
      "execution_count": 11,
      "id": "2743fbc0",
      "metadata": {
        "id": "2743fbc0",
        "outputId": "8563cb03-61c8-4374-c7f8-324207c1cb45"
      },
      "outputs": [
        {
          "name": "stdout",
          "output_type": "stream",
          "text": [
            "Model Coefficient: [-2.55298852e+01  1.93977541e+01  7.14249504e+01 -2.85588336e-01\n",
            "  2.53100455e-01 -2.75234078e-01  6.05514251e-01  2.97792293e-01\n",
            "  9.66063426e-02  1.29407653e-01  3.77947793e+00  6.42532718e+01\n",
            " -7.92939408e+00  4.69694335e+01 -1.41066463e+00  1.04368078e+02\n",
            " -7.40479710e+01 -4.29077011e+00  1.22739388e+02 -3.97159706e+01\n",
            "  6.96628524e+02  1.00781440e+02  1.36423376e+02  7.86574630e+01\n",
            " -6.69262798e+01  5.04854504e+02  2.47198080e+02  2.48979456e+02\n",
            "  6.23403336e+01  1.28660993e+02 -1.43888254e+02 -1.06409891e+00\n",
            " -1.26596997e+02  1.24475422e+02  2.23468193e+02  1.37461930e+02\n",
            "  2.68559608e+01 -7.92939408e+00 -4.55011249e+01  1.25521628e+02\n",
            " -5.10905949e+01  2.84217094e-13  7.10542736e-14  1.18672429e+01\n",
            " -1.21046553e+00  3.16426467e-01  4.32949476e-01 -2.07574711e-01\n",
            "  1.11724240e+02  1.34539223e+01 -7.17741441e+01 -3.70233537e+01\n",
            " -1.18672429e+01]\n",
            "Model Intercept: -239.47383017866264\n"
          ]
        }
      ],
      "source": [
        "# Model's coefficient and intercept\n",
        "print(f'Model Coefficient: {lin_reg_mod.coef_}')\n",
        "print(f'Model Intercept: {lin_reg_mod.intercept_}')"
      ]
    },
    {
      "cell_type": "code",
      "execution_count": 12,
      "id": "1f4f07eb",
      "metadata": {
        "id": "1f4f07eb",
        "outputId": "1c0101c3-f6b5-415d-e34d-d14ff2ab2cce"
      },
      "outputs": [
        {
          "name": "stdout",
          "output_type": "stream",
          "text": [
            "Predicted training data: [ 197.97355346  625.69955959  652.68080325 1864.25712955 1611.80733617\n",
            "  790.42436572  959.12161762  285.82890907 1737.27085086  494.77990165]\n",
            "\n",
            "Actual training data: [ 369.    459.    668.48 1499.   1323.   1060.    609.    349.   2040.\n",
            "  581.9 ]\n"
          ]
        }
      ],
      "source": [
        "# Predictions on training data\n",
        "y_train_pred = lin_reg_mod.predict(X_train)\n",
        "print(f'Predicted training data: {y_train_pred[:10]}')\n",
        "print(f'\\nActual training data: {y_train[:10].values}')"
      ]
    },
    {
      "cell_type": "code",
      "execution_count": 13,
      "id": "c9d525ab",
      "metadata": {
        "id": "c9d525ab",
        "outputId": "37bf3fc8-5af9-4d49-9904-c64051c93239"
      },
      "outputs": [
        {
          "name": "stdout",
          "output_type": "stream",
          "text": [
            "Predicted test data: [ 720.78225305  944.84154565  910.86585279 1198.73854547  885.91503414\n",
            " 1562.88357265  973.02582634  608.76640431 1219.21719047  716.16931924]\n",
            "\n",
            "Actual test data: [ 655.01  794.    955.   1480.    575.   1099.   1126.71  415.   1169.\n",
            "  849.  ]\n"
          ]
        }
      ],
      "source": [
        "# Predictions on test data\n",
        "y_test_pred = lin_reg_mod.predict(X_test)\n",
        "print(f'Predicted test data: {y_test_pred[:10]}')\n",
        "print(f'\\nActual test data: {y_test[:10].values}')"
      ]
    },
    {
      "cell_type": "code",
      "execution_count": 14,
      "id": "202afa41",
      "metadata": {
        "id": "202afa41"
      },
      "outputs": [],
      "source": [
        "import joblib"
      ]
    },
    {
      "cell_type": "code",
      "execution_count": 15,
      "id": "9d5ff1ef",
      "metadata": {
        "id": "9d5ff1ef",
        "outputId": "ab6376eb-50c2-4d33-ce6b-f53651b68a20"
      },
      "outputs": [
        {
          "data": {
            "text/plain": [
              "['../models/laptop_price_model.pkl']"
            ]
          },
          "execution_count": 15,
          "metadata": {},
          "output_type": "execute_result"
        }
      ],
      "source": [
        "# Save trained model\n",
        "joblib.dump(lin_reg_mod, \"../models/laptop_price_model.pkl\")"
      ]
    },
    {
      "cell_type": "code",
      "execution_count": 16,
      "id": "cee42788",
      "metadata": {
        "id": "cee42788",
        "outputId": "2688baeb-a0bf-49ef-b72a-9ce2d9183366"
      },
      "outputs": [
        {
          "data": {
            "text/plain": [
              "['../models/model_features.pkl']"
            ]
          },
          "execution_count": 16,
          "metadata": {},
          "output_type": "execute_result"
        }
      ],
      "source": [
        "# Save feature columns\n",
        "joblib.dump(X_train.columns.tolist(), \"../models/model_features.pkl\")"
      ]
    },
    {
      "cell_type": "code",
      "execution_count": 17,
      "id": "24de5136",
      "metadata": {
        "id": "24de5136",
        "outputId": "b4650beb-7a02-4d67-bdc3-245d2311b983"
      },
      "outputs": [
        {
          "data": {
            "text/plain": [
              "['../models/train_test_split.pkl']"
            ]
          },
          "execution_count": 17,
          "metadata": {},
          "output_type": "execute_result"
        }
      ],
      "source": [
        "# Save train-test split\n",
        "joblib.dump((X_train, X_test, y_train, y_test), \"../models/train_test_split.pkl\")"
      ]
    }
  ],
  "metadata": {
    "colab": {
      "provenance": []
    },
    "kernelspec": {
      "display_name": "venv (3.10.11)",
      "language": "python",
      "name": "python3"
    },
    "language_info": {
      "codemirror_mode": {
        "name": "ipython",
        "version": 3
      },
      "file_extension": ".py",
      "mimetype": "text/x-python",
      "name": "python",
      "nbconvert_exporter": "python",
      "pygments_lexer": "ipython3",
      "version": "3.10.11"
    }
  },
  "nbformat": 4,
  "nbformat_minor": 5
}
