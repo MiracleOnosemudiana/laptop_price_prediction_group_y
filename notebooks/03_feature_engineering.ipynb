{
  "cells": [
    {
      "cell_type": "code",
      "execution_count": 1,
      "id": "c7b860b0",
      "metadata": {
        "id": "c7b860b0"
      },
      "outputs": [],
      "source": [
        "# import pandas library\n",
        "import numpy as np\n",
        "import pandas as pd"
      ]
    },
    {
      "cell_type": "code",
      "execution_count": 2,
      "id": "1c0f6c1f",
      "metadata": {
        "id": "1c0f6c1f"
      },
      "outputs": [],
      "source": [
        "# load encoded dataset\n",
        "df = pd.read_csv(\"../data/encoded/laptops_encoded.csv\")"
      ]
    },
    {
      "cell_type": "code",
      "execution_count": 3,
      "id": "2f594b26",
      "metadata": {
        "id": "2f594b26",
        "outputId": "3ff23500-1e72-4bfa-e605-a2f598f50641"
      },
      "outputs": [
        {
          "data": {
            "application/vnd.microsoft.datawrangler.viewer.v0+json": {
              "columns": [
                {
                  "name": "index",
                  "rawType": "int64",
                  "type": "integer"
                },
                {
                  "name": "Product",
                  "rawType": "object",
                  "type": "string"
                },
                {
                  "name": "Inches",
                  "rawType": "float64",
                  "type": "float"
                },
                {
                  "name": "ScreenResolution",
                  "rawType": "object",
                  "type": "string"
                },
                {
                  "name": "Cpu",
                  "rawType": "object",
                  "type": "string"
                },
                {
                  "name": "Ram",
                  "rawType": "object",
                  "type": "string"
                },
                {
                  "name": "Memory",
                  "rawType": "object",
                  "type": "string"
                },
                {
                  "name": "Gpu",
                  "rawType": "object",
                  "type": "string"
                },
                {
                  "name": "OpSys",
                  "rawType": "object",
                  "type": "string"
                },
                {
                  "name": "Weight",
                  "rawType": "object",
                  "type": "string"
                },
                {
                  "name": "Price_euros",
                  "rawType": "float64",
                  "type": "float"
                },
                {
                  "name": "Ram (GB)",
                  "rawType": "int64",
                  "type": "integer"
                },
                {
                  "name": "Weight (kg)",
                  "rawType": "float64",
                  "type": "float"
                },
                {
                  "name": "HDD (GB)",
                  "rawType": "float64",
                  "type": "float"
                },
                {
                  "name": "SSD (GB)",
                  "rawType": "float64",
                  "type": "float"
                },
                {
                  "name": "Hybrid (GB)",
                  "rawType": "float64",
                  "type": "float"
                },
                {
                  "name": "Flash Storage (GB)",
                  "rawType": "float64",
                  "type": "float"
                },
                {
                  "name": "Total_Storage (GB)",
                  "rawType": "float64",
                  "type": "float"
                },
                {
                  "name": "Screen_Width",
                  "rawType": "int64",
                  "type": "integer"
                },
                {
                  "name": "Screen_Height",
                  "rawType": "int64",
                  "type": "integer"
                },
                {
                  "name": "Touchscreen",
                  "rawType": "int64",
                  "type": "integer"
                },
                {
                  "name": "Cpu_Speed_GHz",
                  "rawType": "float64",
                  "type": "float"
                },
                {
                  "name": "Company_Apple",
                  "rawType": "bool",
                  "type": "boolean"
                },
                {
                  "name": "Company_Asus",
                  "rawType": "bool",
                  "type": "boolean"
                },
                {
                  "name": "Company_Chuwi",
                  "rawType": "bool",
                  "type": "boolean"
                },
                {
                  "name": "Company_Dell",
                  "rawType": "bool",
                  "type": "boolean"
                },
                {
                  "name": "Company_Fujitsu",
                  "rawType": "bool",
                  "type": "boolean"
                },
                {
                  "name": "Company_Google",
                  "rawType": "bool",
                  "type": "boolean"
                },
                {
                  "name": "Company_HP",
                  "rawType": "bool",
                  "type": "boolean"
                },
                {
                  "name": "Company_Huawei",
                  "rawType": "bool",
                  "type": "boolean"
                },
                {
                  "name": "Company_LG",
                  "rawType": "bool",
                  "type": "boolean"
                },
                {
                  "name": "Company_Lenovo",
                  "rawType": "bool",
                  "type": "boolean"
                },
                {
                  "name": "Company_MSI",
                  "rawType": "bool",
                  "type": "boolean"
                },
                {
                  "name": "Company_Mediacom",
                  "rawType": "bool",
                  "type": "boolean"
                },
                {
                  "name": "Company_Microsoft",
                  "rawType": "bool",
                  "type": "boolean"
                },
                {
                  "name": "Company_Razer",
                  "rawType": "bool",
                  "type": "boolean"
                },
                {
                  "name": "Company_Samsung",
                  "rawType": "bool",
                  "type": "boolean"
                },
                {
                  "name": "Company_Toshiba",
                  "rawType": "bool",
                  "type": "boolean"
                },
                {
                  "name": "Company_Vero",
                  "rawType": "bool",
                  "type": "boolean"
                },
                {
                  "name": "Company_Xiaomi",
                  "rawType": "bool",
                  "type": "boolean"
                },
                {
                  "name": "TypeName_Gaming",
                  "rawType": "bool",
                  "type": "boolean"
                },
                {
                  "name": "TypeName_Netbook",
                  "rawType": "bool",
                  "type": "boolean"
                },
                {
                  "name": "TypeName_Notebook",
                  "rawType": "bool",
                  "type": "boolean"
                },
                {
                  "name": "TypeName_Ultrabook",
                  "rawType": "bool",
                  "type": "boolean"
                },
                {
                  "name": "TypeName_Workstation",
                  "rawType": "bool",
                  "type": "boolean"
                },
                {
                  "name": "OpSys_Clean_Chrome OS",
                  "rawType": "bool",
                  "type": "boolean"
                },
                {
                  "name": "OpSys_Clean_Linux",
                  "rawType": "bool",
                  "type": "boolean"
                },
                {
                  "name": "OpSys_Clean_MacOS",
                  "rawType": "bool",
                  "type": "boolean"
                },
                {
                  "name": "OpSys_Clean_No OS",
                  "rawType": "bool",
                  "type": "boolean"
                },
                {
                  "name": "OpSys_Clean_Windows",
                  "rawType": "bool",
                  "type": "boolean"
                },
                {
                  "name": "Cpu_Brand_Intel",
                  "rawType": "bool",
                  "type": "boolean"
                },
                {
                  "name": "Cpu_Brand_Samsung",
                  "rawType": "bool",
                  "type": "boolean"
                },
                {
                  "name": "Gpu_Brand_ARM",
                  "rawType": "bool",
                  "type": "boolean"
                },
                {
                  "name": "Gpu_Brand_Intel",
                  "rawType": "bool",
                  "type": "boolean"
                },
                {
                  "name": "Gpu_Brand_Nvidia",
                  "rawType": "bool",
                  "type": "boolean"
                },
                {
                  "name": "Cpu_Name_TE",
                  "rawType": "float64",
                  "type": "float"
                },
                {
                  "name": "Gpu_Name_TE",
                  "rawType": "float64",
                  "type": "float"
                }
              ],
              "ref": "8c63686d-bfa9-48b2-b51f-0d3fffc5ed05",
              "rows": [
                [
                  "0",
                  "MacBook Pro",
                  "13.3",
                  "IPS Panel Retina Display 2560x1600",
                  "Intel Core i5 2.3GHz",
                  "8GB",
                  "128GB SSD",
                  "Intel Iris Plus Graphics 640",
                  "macOS",
                  "1.37kg",
                  "1339.69",
                  "8",
                  "1.37",
                  "0.0",
                  "128.0",
                  "0.0",
                  "0.0",
                  "128.0",
                  "2560",
                  "1600",
                  "0",
                  "2.3",
                  "True",
                  "False",
                  "False",
                  "False",
                  "False",
                  "False",
                  "False",
                  "False",
                  "False",
                  "False",
                  "False",
                  "False",
                  "False",
                  "False",
                  "False",
                  "False",
                  "False",
                  "False",
                  "False",
                  "False",
                  "False",
                  "True",
                  "False",
                  "False",
                  "False",
                  "True",
                  "False",
                  "False",
                  "True",
                  "False",
                  "False",
                  "True",
                  "False",
                  "1391.9483333333335",
                  "1764.01125"
                ],
                [
                  "1",
                  "Macbook Air",
                  "13.3",
                  "1440x900",
                  "Intel Core i5 1.8GHz",
                  "8GB",
                  "128GB Flash Storage",
                  "Intel HD Graphics 6000",
                  "macOS",
                  "1.34kg",
                  "898.94",
                  "8",
                  "1.34",
                  "0.0",
                  "0.0",
                  "0.0",
                  "128.0",
                  "128.0",
                  "1440",
                  "900",
                  "0",
                  "1.8",
                  "True",
                  "False",
                  "False",
                  "False",
                  "False",
                  "False",
                  "False",
                  "False",
                  "False",
                  "False",
                  "False",
                  "False",
                  "False",
                  "False",
                  "False",
                  "False",
                  "False",
                  "False",
                  "False",
                  "False",
                  "False",
                  "True",
                  "False",
                  "False",
                  "False",
                  "True",
                  "False",
                  "False",
                  "True",
                  "False",
                  "False",
                  "True",
                  "False",
                  "1391.9483333333335",
                  "1022.728"
                ],
                [
                  "2",
                  "250 G6",
                  "15.6",
                  "Full HD 1920x1080",
                  "Intel Core i5 7200U 2.5GHz",
                  "8GB",
                  "256GB SSD",
                  "Intel HD Graphics 620",
                  "No OS",
                  "1.86kg",
                  "575.0",
                  "8",
                  "1.86",
                  "0.0",
                  "256.0",
                  "0.0",
                  "0.0",
                  "256.0",
                  "1920",
                  "1080",
                  "0",
                  "2.5",
                  "False",
                  "False",
                  "False",
                  "False",
                  "False",
                  "False",
                  "True",
                  "False",
                  "False",
                  "False",
                  "False",
                  "False",
                  "False",
                  "False",
                  "False",
                  "False",
                  "False",
                  "False",
                  "False",
                  "False",
                  "True",
                  "False",
                  "False",
                  "False",
                  "False",
                  "False",
                  "True",
                  "False",
                  "True",
                  "False",
                  "False",
                  "True",
                  "False",
                  "919.3180829015544",
                  "1141.0898226950355"
                ],
                [
                  "3",
                  "MacBook Pro",
                  "15.4",
                  "IPS Panel Retina Display 2880x1800",
                  "Intel Core i7 2.7GHz",
                  "16GB",
                  "512GB SSD",
                  "AMD Radeon Pro 455",
                  "macOS",
                  "1.83kg",
                  "2537.45",
                  "16",
                  "1.83",
                  "0.0",
                  "512.0",
                  "0.0",
                  "0.0",
                  "512.0",
                  "2880",
                  "1800",
                  "0",
                  "2.7",
                  "True",
                  "False",
                  "False",
                  "False",
                  "False",
                  "False",
                  "False",
                  "False",
                  "False",
                  "False",
                  "False",
                  "False",
                  "False",
                  "False",
                  "False",
                  "False",
                  "False",
                  "False",
                  "False",
                  "False",
                  "False",
                  "True",
                  "False",
                  "False",
                  "False",
                  "True",
                  "False",
                  "False",
                  "True",
                  "False",
                  "False",
                  "False",
                  "False",
                  "2493.8475",
                  "2537.45"
                ],
                [
                  "4",
                  "MacBook Pro",
                  "13.3",
                  "IPS Panel Retina Display 2560x1600",
                  "Intel Core i5 3.1GHz",
                  "8GB",
                  "256GB SSD",
                  "Intel Iris Plus Graphics 650",
                  "macOS",
                  "1.37kg",
                  "1803.6",
                  "8",
                  "1.37",
                  "0.0",
                  "256.0",
                  "0.0",
                  "0.0",
                  "256.0",
                  "2560",
                  "1600",
                  "0",
                  "3.1",
                  "True",
                  "False",
                  "False",
                  "False",
                  "False",
                  "False",
                  "False",
                  "False",
                  "False",
                  "False",
                  "False",
                  "False",
                  "False",
                  "False",
                  "False",
                  "False",
                  "False",
                  "False",
                  "False",
                  "False",
                  "False",
                  "True",
                  "False",
                  "False",
                  "False",
                  "True",
                  "False",
                  "False",
                  "True",
                  "False",
                  "False",
                  "True",
                  "False",
                  "1391.9483333333335",
                  "1921.8"
                ]
              ],
              "shape": {
                "columns": 56,
                "rows": 5
              }
            },
            "text/html": [
              "<div>\n",
              "<style scoped>\n",
              "    .dataframe tbody tr th:only-of-type {\n",
              "        vertical-align: middle;\n",
              "    }\n",
              "\n",
              "    .dataframe tbody tr th {\n",
              "        vertical-align: top;\n",
              "    }\n",
              "\n",
              "    .dataframe thead th {\n",
              "        text-align: right;\n",
              "    }\n",
              "</style>\n",
              "<table border=\"1\" class=\"dataframe\">\n",
              "  <thead>\n",
              "    <tr style=\"text-align: right;\">\n",
              "      <th></th>\n",
              "      <th>Product</th>\n",
              "      <th>Inches</th>\n",
              "      <th>ScreenResolution</th>\n",
              "      <th>Cpu</th>\n",
              "      <th>Ram</th>\n",
              "      <th>Memory</th>\n",
              "      <th>Gpu</th>\n",
              "      <th>OpSys</th>\n",
              "      <th>Weight</th>\n",
              "      <th>Price_euros</th>\n",
              "      <th>...</th>\n",
              "      <th>OpSys_Clean_MacOS</th>\n",
              "      <th>OpSys_Clean_No OS</th>\n",
              "      <th>OpSys_Clean_Windows</th>\n",
              "      <th>Cpu_Brand_Intel</th>\n",
              "      <th>Cpu_Brand_Samsung</th>\n",
              "      <th>Gpu_Brand_ARM</th>\n",
              "      <th>Gpu_Brand_Intel</th>\n",
              "      <th>Gpu_Brand_Nvidia</th>\n",
              "      <th>Cpu_Name_TE</th>\n",
              "      <th>Gpu_Name_TE</th>\n",
              "    </tr>\n",
              "  </thead>\n",
              "  <tbody>\n",
              "    <tr>\n",
              "      <th>0</th>\n",
              "      <td>MacBook Pro</td>\n",
              "      <td>13.3</td>\n",
              "      <td>IPS Panel Retina Display 2560x1600</td>\n",
              "      <td>Intel Core i5 2.3GHz</td>\n",
              "      <td>8GB</td>\n",
              "      <td>128GB SSD</td>\n",
              "      <td>Intel Iris Plus Graphics 640</td>\n",
              "      <td>macOS</td>\n",
              "      <td>1.37kg</td>\n",
              "      <td>1339.69</td>\n",
              "      <td>...</td>\n",
              "      <td>True</td>\n",
              "      <td>False</td>\n",
              "      <td>False</td>\n",
              "      <td>True</td>\n",
              "      <td>False</td>\n",
              "      <td>False</td>\n",
              "      <td>True</td>\n",
              "      <td>False</td>\n",
              "      <td>1391.948333</td>\n",
              "      <td>1764.011250</td>\n",
              "    </tr>\n",
              "    <tr>\n",
              "      <th>1</th>\n",
              "      <td>Macbook Air</td>\n",
              "      <td>13.3</td>\n",
              "      <td>1440x900</td>\n",
              "      <td>Intel Core i5 1.8GHz</td>\n",
              "      <td>8GB</td>\n",
              "      <td>128GB Flash Storage</td>\n",
              "      <td>Intel HD Graphics 6000</td>\n",
              "      <td>macOS</td>\n",
              "      <td>1.34kg</td>\n",
              "      <td>898.94</td>\n",
              "      <td>...</td>\n",
              "      <td>True</td>\n",
              "      <td>False</td>\n",
              "      <td>False</td>\n",
              "      <td>True</td>\n",
              "      <td>False</td>\n",
              "      <td>False</td>\n",
              "      <td>True</td>\n",
              "      <td>False</td>\n",
              "      <td>1391.948333</td>\n",
              "      <td>1022.728000</td>\n",
              "    </tr>\n",
              "    <tr>\n",
              "      <th>2</th>\n",
              "      <td>250 G6</td>\n",
              "      <td>15.6</td>\n",
              "      <td>Full HD 1920x1080</td>\n",
              "      <td>Intel Core i5 7200U 2.5GHz</td>\n",
              "      <td>8GB</td>\n",
              "      <td>256GB SSD</td>\n",
              "      <td>Intel HD Graphics 620</td>\n",
              "      <td>No OS</td>\n",
              "      <td>1.86kg</td>\n",
              "      <td>575.00</td>\n",
              "      <td>...</td>\n",
              "      <td>False</td>\n",
              "      <td>True</td>\n",
              "      <td>False</td>\n",
              "      <td>True</td>\n",
              "      <td>False</td>\n",
              "      <td>False</td>\n",
              "      <td>True</td>\n",
              "      <td>False</td>\n",
              "      <td>919.318083</td>\n",
              "      <td>1141.089823</td>\n",
              "    </tr>\n",
              "    <tr>\n",
              "      <th>3</th>\n",
              "      <td>MacBook Pro</td>\n",
              "      <td>15.4</td>\n",
              "      <td>IPS Panel Retina Display 2880x1800</td>\n",
              "      <td>Intel Core i7 2.7GHz</td>\n",
              "      <td>16GB</td>\n",
              "      <td>512GB SSD</td>\n",
              "      <td>AMD Radeon Pro 455</td>\n",
              "      <td>macOS</td>\n",
              "      <td>1.83kg</td>\n",
              "      <td>2537.45</td>\n",
              "      <td>...</td>\n",
              "      <td>True</td>\n",
              "      <td>False</td>\n",
              "      <td>False</td>\n",
              "      <td>True</td>\n",
              "      <td>False</td>\n",
              "      <td>False</td>\n",
              "      <td>False</td>\n",
              "      <td>False</td>\n",
              "      <td>2493.847500</td>\n",
              "      <td>2537.450000</td>\n",
              "    </tr>\n",
              "    <tr>\n",
              "      <th>4</th>\n",
              "      <td>MacBook Pro</td>\n",
              "      <td>13.3</td>\n",
              "      <td>IPS Panel Retina Display 2560x1600</td>\n",
              "      <td>Intel Core i5 3.1GHz</td>\n",
              "      <td>8GB</td>\n",
              "      <td>256GB SSD</td>\n",
              "      <td>Intel Iris Plus Graphics 650</td>\n",
              "      <td>macOS</td>\n",
              "      <td>1.37kg</td>\n",
              "      <td>1803.60</td>\n",
              "      <td>...</td>\n",
              "      <td>True</td>\n",
              "      <td>False</td>\n",
              "      <td>False</td>\n",
              "      <td>True</td>\n",
              "      <td>False</td>\n",
              "      <td>False</td>\n",
              "      <td>True</td>\n",
              "      <td>False</td>\n",
              "      <td>1391.948333</td>\n",
              "      <td>1921.800000</td>\n",
              "    </tr>\n",
              "  </tbody>\n",
              "</table>\n",
              "<p>5 rows × 56 columns</p>\n",
              "</div>"
            ],
            "text/plain": [
              "       Product  Inches                    ScreenResolution  \\\n",
              "0  MacBook Pro    13.3  IPS Panel Retina Display 2560x1600   \n",
              "1  Macbook Air    13.3                            1440x900   \n",
              "2       250 G6    15.6                   Full HD 1920x1080   \n",
              "3  MacBook Pro    15.4  IPS Panel Retina Display 2880x1800   \n",
              "4  MacBook Pro    13.3  IPS Panel Retina Display 2560x1600   \n",
              "\n",
              "                          Cpu   Ram               Memory  \\\n",
              "0        Intel Core i5 2.3GHz   8GB            128GB SSD   \n",
              "1        Intel Core i5 1.8GHz   8GB  128GB Flash Storage   \n",
              "2  Intel Core i5 7200U 2.5GHz   8GB            256GB SSD   \n",
              "3        Intel Core i7 2.7GHz  16GB            512GB SSD   \n",
              "4        Intel Core i5 3.1GHz   8GB            256GB SSD   \n",
              "\n",
              "                            Gpu  OpSys  Weight  Price_euros  ...  \\\n",
              "0  Intel Iris Plus Graphics 640  macOS  1.37kg      1339.69  ...   \n",
              "1        Intel HD Graphics 6000  macOS  1.34kg       898.94  ...   \n",
              "2         Intel HD Graphics 620  No OS  1.86kg       575.00  ...   \n",
              "3            AMD Radeon Pro 455  macOS  1.83kg      2537.45  ...   \n",
              "4  Intel Iris Plus Graphics 650  macOS  1.37kg      1803.60  ...   \n",
              "\n",
              "   OpSys_Clean_MacOS  OpSys_Clean_No OS  OpSys_Clean_Windows  Cpu_Brand_Intel  \\\n",
              "0               True              False                False             True   \n",
              "1               True              False                False             True   \n",
              "2              False               True                False             True   \n",
              "3               True              False                False             True   \n",
              "4               True              False                False             True   \n",
              "\n",
              "   Cpu_Brand_Samsung  Gpu_Brand_ARM  Gpu_Brand_Intel  Gpu_Brand_Nvidia  \\\n",
              "0              False          False             True             False   \n",
              "1              False          False             True             False   \n",
              "2              False          False             True             False   \n",
              "3              False          False            False             False   \n",
              "4              False          False             True             False   \n",
              "\n",
              "   Cpu_Name_TE  Gpu_Name_TE  \n",
              "0  1391.948333  1764.011250  \n",
              "1  1391.948333  1022.728000  \n",
              "2   919.318083  1141.089823  \n",
              "3  2493.847500  2537.450000  \n",
              "4  1391.948333  1921.800000  \n",
              "\n",
              "[5 rows x 56 columns]"
            ]
          },
          "execution_count": 3,
          "metadata": {},
          "output_type": "execute_result"
        }
      ],
      "source": [
        "# Make a copy for feature engineering and preview\n",
        "df_fe = df.copy()\n",
        "df_fe.head()"
      ]
    },
    {
      "cell_type": "code",
      "execution_count": 4,
      "id": "cdb1e0bf",
      "metadata": {
        "id": "cdb1e0bf"
      },
      "outputs": [],
      "source": [
        "# Creating a new feature 'PPI' (Pixels Per Inch)\n",
        "df_fe[\"PPI\"] = ((df_fe[\"Screen_Width\"]**2 + df_fe[\"Screen_Height\"]**2) ** 0.5) / df_fe[\"Inches\"]"
      ]
    },
    {
      "cell_type": "code",
      "execution_count": 5,
      "id": "05a150af",
      "metadata": {
        "id": "05a150af"
      },
      "outputs": [],
      "source": [
        "# High RAM Flag\n",
        "df_fe[\"Is_High_RAM\"] = (df_fe[\"Ram (GB)\"] >= 16).astype(int)"
      ]
    },
    {
      "cell_type": "code",
      "execution_count": 6,
      "id": "ac7c3bd0",
      "metadata": {
        "id": "ac7c3bd0"
      },
      "outputs": [],
      "source": [
        "# SSD flag\n",
        "df_fe[\"Is_SSD\"] = (df_fe[\"SSD (GB)\"] > 0).astype(int)"
      ]
    },
    {
      "cell_type": "code",
      "execution_count": 7,
      "id": "3eb6dd49",
      "metadata": {
        "id": "3eb6dd49"
      },
      "outputs": [],
      "source": [
        "# Storage type\n",
        "def storage_type(row):\n",
        "    if row[\"SSD (GB)\"] > 0 and row[\"HDD (GB)\"] == 0:\n",
        "        return \"SSD only\"\n",
        "    elif row[\"HDD (GB)\"] > 0 and row[\"SSD (GB)\"] == 0:\n",
        "        return \"HDD only\"\n",
        "    elif row[\"SSD (GB)\"] > 0 and row[\"HDD (GB)\"] > 0:\n",
        "        return \"Hybrid\"\n",
        "    elif row[\"Flash Storage (GB)\"] > 0:\n",
        "        return \"Flash only\"\n",
        "    else:\n",
        "        return \"Unknown\"\n",
        "\n",
        "df_fe[\"Storage_Type\"] = df_fe.apply(storage_type, axis=1)"
      ]
    },
    {
      "cell_type": "code",
      "execution_count": 8,
      "id": "a1e2df96",
      "metadata": {
        "id": "a1e2df96"
      },
      "outputs": [],
      "source": [
        "# CPU performance class\n",
        "def cpu_class(row):\n",
        "    if row[\"Cpu_Speed_GHz\"] >= 3.0 or row[\"Cpu_Name_TE\"] > 2000:\n",
        "        return \"High-end\"\n",
        "    elif row[\"Cpu_Speed_GHz\"] >= 2.0 or row[\"Cpu_Name_TE\"] > 1200:\n",
        "        return \"Mid-range\"\n",
        "    else:\n",
        "        return \"Low-end\"\n",
        "\n",
        "# Create categorical version\n",
        "df_fe[\"Cpu_Performance_Class\"] = df_fe.apply(cpu_class, axis=1)\n",
        "\n",
        "# Create numeric version (for ML)\n",
        "cpu_map = {\"Low-end\": 0, \"Mid-range\": 1, \"High-end\": 2}\n",
        "df_fe[\"Cpu_Performance_Class_Num\"] = df_fe[\"Cpu_Performance_Class\"].map(cpu_map)"
      ]
    },
    {
      "cell_type": "code",
      "execution_count": 9,
      "id": "fb5b0319",
      "metadata": {
        "id": "fb5b0319"
      },
      "outputs": [],
      "source": [
        "def gpu_class(te_value):\n",
        "    if te_value > 2000:\n",
        "        return \"High-end\"\n",
        "    elif te_value > 1200:\n",
        "        return \"Mid-range\"\n",
        "    else:\n",
        "        return \"Low-end\"\n",
        "\n",
        "# Create categorical version\n",
        "df_fe[\"Gpu_Performance_Class\"] = df_fe[\"Gpu_Name_TE\"].apply(gpu_class)\n",
        "\n",
        "# Create numeric version (for ML)\n",
        "gpu_map = {\"Low-end\": 0, \"Mid-range\": 1, \"High-end\": 2}\n",
        "df_fe[\"Gpu_Performance_Class_Num\"] = df_fe[\"Gpu_Performance_Class\"].map(gpu_map)"
      ]
    },
    {
      "cell_type": "code",
      "execution_count": 10,
      "id": "b173ebfd",
      "metadata": {
        "id": "b173ebfd"
      },
      "outputs": [],
      "source": [
        "# Dedicated GPU\n",
        "df_fe[\"Gpu_Dedicated\"] = df_fe[\"Gpu\"].apply(\n",
        "    lambda x: 1 if (\"Nvidia\" in x or \"AMD\" in x) else 0\n",
        ")"
      ]
    },
    {
      "cell_type": "code",
      "execution_count": 11,
      "id": "d91188fb",
      "metadata": {
        "id": "d91188fb",
        "outputId": "264bbe66-e927-4113-e710-91888d1fbf65"
      },
      "outputs": [
        {
          "data": {
            "application/vnd.microsoft.datawrangler.viewer.v0+json": {
              "columns": [
                {
                  "name": "index",
                  "rawType": "int64",
                  "type": "integer"
                },
                {
                  "name": "PPI",
                  "rawType": "float64",
                  "type": "float"
                },
                {
                  "name": "Is_High_RAM",
                  "rawType": "int32",
                  "type": "integer"
                },
                {
                  "name": "Is_SSD",
                  "rawType": "int32",
                  "type": "integer"
                },
                {
                  "name": "Storage_Type",
                  "rawType": "object",
                  "type": "string"
                },
                {
                  "name": "Cpu_Performance_Class",
                  "rawType": "object",
                  "type": "string"
                },
                {
                  "name": "Gpu_Dedicated",
                  "rawType": "int64",
                  "type": "integer"
                }
              ],
              "ref": "07d091e8-2cfc-4828-bb78-6a926fc46e92",
              "rows": [
                [
                  "0",
                  "226.98300468106115",
                  "0",
                  "1",
                  "SSD only",
                  "Mid-range",
                  "0"
                ],
                [
                  "1",
                  "127.67794013309688",
                  "0",
                  "0",
                  "Flash only",
                  "Mid-range",
                  "0"
                ],
                [
                  "2",
                  "141.21199808219862",
                  "0",
                  "1",
                  "SSD only",
                  "Mid-range",
                  "0"
                ],
                [
                  "3",
                  "220.53462386625827",
                  "1",
                  "1",
                  "SSD only",
                  "High-end",
                  "1"
                ],
                [
                  "4",
                  "226.98300468106115",
                  "0",
                  "1",
                  "SSD only",
                  "High-end",
                  "0"
                ]
              ],
              "shape": {
                "columns": 6,
                "rows": 5
              }
            },
            "text/html": [
              "<div>\n",
              "<style scoped>\n",
              "    .dataframe tbody tr th:only-of-type {\n",
              "        vertical-align: middle;\n",
              "    }\n",
              "\n",
              "    .dataframe tbody tr th {\n",
              "        vertical-align: top;\n",
              "    }\n",
              "\n",
              "    .dataframe thead th {\n",
              "        text-align: right;\n",
              "    }\n",
              "</style>\n",
              "<table border=\"1\" class=\"dataframe\">\n",
              "  <thead>\n",
              "    <tr style=\"text-align: right;\">\n",
              "      <th></th>\n",
              "      <th>PPI</th>\n",
              "      <th>Is_High_RAM</th>\n",
              "      <th>Is_SSD</th>\n",
              "      <th>Storage_Type</th>\n",
              "      <th>Cpu_Performance_Class</th>\n",
              "      <th>Gpu_Dedicated</th>\n",
              "    </tr>\n",
              "  </thead>\n",
              "  <tbody>\n",
              "    <tr>\n",
              "      <th>0</th>\n",
              "      <td>226.983005</td>\n",
              "      <td>0</td>\n",
              "      <td>1</td>\n",
              "      <td>SSD only</td>\n",
              "      <td>Mid-range</td>\n",
              "      <td>0</td>\n",
              "    </tr>\n",
              "    <tr>\n",
              "      <th>1</th>\n",
              "      <td>127.677940</td>\n",
              "      <td>0</td>\n",
              "      <td>0</td>\n",
              "      <td>Flash only</td>\n",
              "      <td>Mid-range</td>\n",
              "      <td>0</td>\n",
              "    </tr>\n",
              "    <tr>\n",
              "      <th>2</th>\n",
              "      <td>141.211998</td>\n",
              "      <td>0</td>\n",
              "      <td>1</td>\n",
              "      <td>SSD only</td>\n",
              "      <td>Mid-range</td>\n",
              "      <td>0</td>\n",
              "    </tr>\n",
              "    <tr>\n",
              "      <th>3</th>\n",
              "      <td>220.534624</td>\n",
              "      <td>1</td>\n",
              "      <td>1</td>\n",
              "      <td>SSD only</td>\n",
              "      <td>High-end</td>\n",
              "      <td>1</td>\n",
              "    </tr>\n",
              "    <tr>\n",
              "      <th>4</th>\n",
              "      <td>226.983005</td>\n",
              "      <td>0</td>\n",
              "      <td>1</td>\n",
              "      <td>SSD only</td>\n",
              "      <td>High-end</td>\n",
              "      <td>0</td>\n",
              "    </tr>\n",
              "  </tbody>\n",
              "</table>\n",
              "</div>"
            ],
            "text/plain": [
              "          PPI  Is_High_RAM  Is_SSD Storage_Type Cpu_Performance_Class  \\\n",
              "0  226.983005            0       1     SSD only             Mid-range   \n",
              "1  127.677940            0       0   Flash only             Mid-range   \n",
              "2  141.211998            0       1     SSD only             Mid-range   \n",
              "3  220.534624            1       1     SSD only              High-end   \n",
              "4  226.983005            0       1     SSD only              High-end   \n",
              "\n",
              "   Gpu_Dedicated  \n",
              "0              0  \n",
              "1              0  \n",
              "2              0  \n",
              "3              1  \n",
              "4              0  "
            ]
          },
          "execution_count": 11,
          "metadata": {},
          "output_type": "execute_result"
        }
      ],
      "source": [
        "# Preview the new features created\n",
        "df_fe[[\"PPI\", \"Is_High_RAM\", \"Is_SSD\", \"Storage_Type\", \"Cpu_Performance_Class\", \"Gpu_Dedicated\"]].head()"
      ]
    },
    {
      "cell_type": "code",
      "execution_count": 12,
      "id": "5ec2a716",
      "metadata": {
        "id": "5ec2a716",
        "outputId": "de4f312b-ffb3-4924-c115-85ea4c4f5e06"
      },
      "outputs": [
        {
          "data": {
            "text/plain": [
              "Index(['Product', 'Inches', 'ScreenResolution', 'Cpu', 'Ram', 'Memory', 'Gpu',\n",
              "       'OpSys', 'Weight', 'Price_euros', 'Ram (GB)', 'Weight (kg)', 'HDD (GB)',\n",
              "       'SSD (GB)', 'Hybrid (GB)', 'Flash Storage (GB)', 'Total_Storage (GB)',\n",
              "       'Screen_Width', 'Screen_Height', 'Touchscreen', 'Cpu_Speed_GHz',\n",
              "       'Company_Apple', 'Company_Asus', 'Company_Chuwi', 'Company_Dell',\n",
              "       'Company_Fujitsu', 'Company_Google', 'Company_HP', 'Company_Huawei',\n",
              "       'Company_LG', 'Company_Lenovo', 'Company_MSI', 'Company_Mediacom',\n",
              "       'Company_Microsoft', 'Company_Razer', 'Company_Samsung',\n",
              "       'Company_Toshiba', 'Company_Vero', 'Company_Xiaomi', 'TypeName_Gaming',\n",
              "       'TypeName_Netbook', 'TypeName_Notebook', 'TypeName_Ultrabook',\n",
              "       'TypeName_Workstation', 'OpSys_Clean_Chrome OS', 'OpSys_Clean_Linux',\n",
              "       'OpSys_Clean_MacOS', 'OpSys_Clean_No OS', 'OpSys_Clean_Windows',\n",
              "       'Cpu_Brand_Intel', 'Cpu_Brand_Samsung', 'Gpu_Brand_ARM',\n",
              "       'Gpu_Brand_Intel', 'Gpu_Brand_Nvidia', 'Cpu_Name_TE', 'Gpu_Name_TE',\n",
              "       'PPI', 'Is_High_RAM', 'Is_SSD', 'Storage_Type', 'Cpu_Performance_Class',\n",
              "       'Cpu_Performance_Class_Num', 'Gpu_Performance_Class',\n",
              "       'Gpu_Performance_Class_Num', 'Gpu_Dedicated'],\n",
              "      dtype='object')"
            ]
          },
          "execution_count": 12,
          "metadata": {},
          "output_type": "execute_result"
        }
      ],
      "source": [
        "df_fe.columns"
      ]
    },
    {
      "cell_type": "code",
      "execution_count": 13,
      "id": "2f869d86",
      "metadata": {
        "id": "2f869d86"
      },
      "outputs": [],
      "source": [
        "# Make a copy of the feature-engineered dataset for modeling\n",
        "df_model = df_fe.copy()"
      ]
    },
    {
      "cell_type": "code",
      "execution_count": 14,
      "id": "5e997312",
      "metadata": {
        "id": "5e997312"
      },
      "outputs": [],
      "source": [
        "# Dropping redundant columns not needed for modeling\n",
        "drop_cols = [\n",
        "    \"Product\", \"Cpu\", \"Gpu\", \"OpSys\", \"ScreenResolution\",  # raw text features\n",
        "    \"Ram\", \"Memory\", \"Weight\",  # original text/duplicate features\n",
        "    \"Storage_Type\", \"Cpu_Performance_Class\", \"Gpu_Performance_Class\" # they have numeric equivalents\n",
        "]\n",
        "\n",
        "df_model = df_model.drop(columns=drop_cols)"
      ]
    },
    {
      "cell_type": "code",
      "execution_count": 15,
      "id": "51e6af18",
      "metadata": {
        "id": "51e6af18",
        "outputId": "6d1af7aa-89d9-422f-9145-cfec6808ed85"
      },
      "outputs": [
        {
          "data": {
            "application/vnd.microsoft.datawrangler.viewer.v0+json": {
              "columns": [
                {
                  "name": "index",
                  "rawType": "int64",
                  "type": "integer"
                },
                {
                  "name": "Inches",
                  "rawType": "float64",
                  "type": "float"
                },
                {
                  "name": "Price_euros",
                  "rawType": "float64",
                  "type": "float"
                },
                {
                  "name": "Ram (GB)",
                  "rawType": "int64",
                  "type": "integer"
                },
                {
                  "name": "Weight (kg)",
                  "rawType": "float64",
                  "type": "float"
                },
                {
                  "name": "HDD (GB)",
                  "rawType": "float64",
                  "type": "float"
                },
                {
                  "name": "SSD (GB)",
                  "rawType": "float64",
                  "type": "float"
                },
                {
                  "name": "Hybrid (GB)",
                  "rawType": "float64",
                  "type": "float"
                },
                {
                  "name": "Flash Storage (GB)",
                  "rawType": "float64",
                  "type": "float"
                },
                {
                  "name": "Total_Storage (GB)",
                  "rawType": "float64",
                  "type": "float"
                },
                {
                  "name": "Screen_Width",
                  "rawType": "int64",
                  "type": "integer"
                },
                {
                  "name": "Screen_Height",
                  "rawType": "int64",
                  "type": "integer"
                },
                {
                  "name": "Touchscreen",
                  "rawType": "int64",
                  "type": "integer"
                },
                {
                  "name": "Cpu_Speed_GHz",
                  "rawType": "float64",
                  "type": "float"
                },
                {
                  "name": "Company_Apple",
                  "rawType": "bool",
                  "type": "boolean"
                },
                {
                  "name": "Company_Asus",
                  "rawType": "bool",
                  "type": "boolean"
                },
                {
                  "name": "Company_Chuwi",
                  "rawType": "bool",
                  "type": "boolean"
                },
                {
                  "name": "Company_Dell",
                  "rawType": "bool",
                  "type": "boolean"
                },
                {
                  "name": "Company_Fujitsu",
                  "rawType": "bool",
                  "type": "boolean"
                },
                {
                  "name": "Company_Google",
                  "rawType": "bool",
                  "type": "boolean"
                },
                {
                  "name": "Company_HP",
                  "rawType": "bool",
                  "type": "boolean"
                },
                {
                  "name": "Company_Huawei",
                  "rawType": "bool",
                  "type": "boolean"
                },
                {
                  "name": "Company_LG",
                  "rawType": "bool",
                  "type": "boolean"
                },
                {
                  "name": "Company_Lenovo",
                  "rawType": "bool",
                  "type": "boolean"
                },
                {
                  "name": "Company_MSI",
                  "rawType": "bool",
                  "type": "boolean"
                },
                {
                  "name": "Company_Mediacom",
                  "rawType": "bool",
                  "type": "boolean"
                },
                {
                  "name": "Company_Microsoft",
                  "rawType": "bool",
                  "type": "boolean"
                },
                {
                  "name": "Company_Razer",
                  "rawType": "bool",
                  "type": "boolean"
                },
                {
                  "name": "Company_Samsung",
                  "rawType": "bool",
                  "type": "boolean"
                },
                {
                  "name": "Company_Toshiba",
                  "rawType": "bool",
                  "type": "boolean"
                },
                {
                  "name": "Company_Vero",
                  "rawType": "bool",
                  "type": "boolean"
                },
                {
                  "name": "Company_Xiaomi",
                  "rawType": "bool",
                  "type": "boolean"
                },
                {
                  "name": "TypeName_Gaming",
                  "rawType": "bool",
                  "type": "boolean"
                },
                {
                  "name": "TypeName_Netbook",
                  "rawType": "bool",
                  "type": "boolean"
                },
                {
                  "name": "TypeName_Notebook",
                  "rawType": "bool",
                  "type": "boolean"
                },
                {
                  "name": "TypeName_Ultrabook",
                  "rawType": "bool",
                  "type": "boolean"
                },
                {
                  "name": "TypeName_Workstation",
                  "rawType": "bool",
                  "type": "boolean"
                },
                {
                  "name": "OpSys_Clean_Chrome OS",
                  "rawType": "bool",
                  "type": "boolean"
                },
                {
                  "name": "OpSys_Clean_Linux",
                  "rawType": "bool",
                  "type": "boolean"
                },
                {
                  "name": "OpSys_Clean_MacOS",
                  "rawType": "bool",
                  "type": "boolean"
                },
                {
                  "name": "OpSys_Clean_No OS",
                  "rawType": "bool",
                  "type": "boolean"
                },
                {
                  "name": "OpSys_Clean_Windows",
                  "rawType": "bool",
                  "type": "boolean"
                },
                {
                  "name": "Cpu_Brand_Intel",
                  "rawType": "bool",
                  "type": "boolean"
                },
                {
                  "name": "Cpu_Brand_Samsung",
                  "rawType": "bool",
                  "type": "boolean"
                },
                {
                  "name": "Gpu_Brand_ARM",
                  "rawType": "bool",
                  "type": "boolean"
                },
                {
                  "name": "Gpu_Brand_Intel",
                  "rawType": "bool",
                  "type": "boolean"
                },
                {
                  "name": "Gpu_Brand_Nvidia",
                  "rawType": "bool",
                  "type": "boolean"
                },
                {
                  "name": "Cpu_Name_TE",
                  "rawType": "float64",
                  "type": "float"
                },
                {
                  "name": "Gpu_Name_TE",
                  "rawType": "float64",
                  "type": "float"
                },
                {
                  "name": "PPI",
                  "rawType": "float64",
                  "type": "float"
                },
                {
                  "name": "Is_High_RAM",
                  "rawType": "int32",
                  "type": "integer"
                },
                {
                  "name": "Is_SSD",
                  "rawType": "int32",
                  "type": "integer"
                },
                {
                  "name": "Cpu_Performance_Class_Num",
                  "rawType": "int64",
                  "type": "integer"
                },
                {
                  "name": "Gpu_Performance_Class_Num",
                  "rawType": "int64",
                  "type": "integer"
                },
                {
                  "name": "Gpu_Dedicated",
                  "rawType": "int64",
                  "type": "integer"
                }
              ],
              "ref": "4a04e5fd-043f-43dd-a069-bc580ce55bd1",
              "rows": [
                [
                  "0",
                  "13.3",
                  "1339.69",
                  "8",
                  "1.37",
                  "0.0",
                  "128.0",
                  "0.0",
                  "0.0",
                  "128.0",
                  "2560",
                  "1600",
                  "0",
                  "2.3",
                  "True",
                  "False",
                  "False",
                  "False",
                  "False",
                  "False",
                  "False",
                  "False",
                  "False",
                  "False",
                  "False",
                  "False",
                  "False",
                  "False",
                  "False",
                  "False",
                  "False",
                  "False",
                  "False",
                  "False",
                  "False",
                  "True",
                  "False",
                  "False",
                  "False",
                  "True",
                  "False",
                  "False",
                  "True",
                  "False",
                  "False",
                  "True",
                  "False",
                  "1391.9483333333335",
                  "1764.01125",
                  "226.98300468106115",
                  "0",
                  "1",
                  "1",
                  "1",
                  "0"
                ],
                [
                  "1",
                  "13.3",
                  "898.94",
                  "8",
                  "1.34",
                  "0.0",
                  "0.0",
                  "0.0",
                  "128.0",
                  "128.0",
                  "1440",
                  "900",
                  "0",
                  "1.8",
                  "True",
                  "False",
                  "False",
                  "False",
                  "False",
                  "False",
                  "False",
                  "False",
                  "False",
                  "False",
                  "False",
                  "False",
                  "False",
                  "False",
                  "False",
                  "False",
                  "False",
                  "False",
                  "False",
                  "False",
                  "False",
                  "True",
                  "False",
                  "False",
                  "False",
                  "True",
                  "False",
                  "False",
                  "True",
                  "False",
                  "False",
                  "True",
                  "False",
                  "1391.9483333333335",
                  "1022.728",
                  "127.67794013309688",
                  "0",
                  "0",
                  "1",
                  "0",
                  "0"
                ],
                [
                  "2",
                  "15.6",
                  "575.0",
                  "8",
                  "1.86",
                  "0.0",
                  "256.0",
                  "0.0",
                  "0.0",
                  "256.0",
                  "1920",
                  "1080",
                  "0",
                  "2.5",
                  "False",
                  "False",
                  "False",
                  "False",
                  "False",
                  "False",
                  "True",
                  "False",
                  "False",
                  "False",
                  "False",
                  "False",
                  "False",
                  "False",
                  "False",
                  "False",
                  "False",
                  "False",
                  "False",
                  "False",
                  "True",
                  "False",
                  "False",
                  "False",
                  "False",
                  "False",
                  "True",
                  "False",
                  "True",
                  "False",
                  "False",
                  "True",
                  "False",
                  "919.3180829015544",
                  "1141.0898226950355",
                  "141.21199808219862",
                  "0",
                  "1",
                  "1",
                  "0",
                  "0"
                ],
                [
                  "3",
                  "15.4",
                  "2537.45",
                  "16",
                  "1.83",
                  "0.0",
                  "512.0",
                  "0.0",
                  "0.0",
                  "512.0",
                  "2880",
                  "1800",
                  "0",
                  "2.7",
                  "True",
                  "False",
                  "False",
                  "False",
                  "False",
                  "False",
                  "False",
                  "False",
                  "False",
                  "False",
                  "False",
                  "False",
                  "False",
                  "False",
                  "False",
                  "False",
                  "False",
                  "False",
                  "False",
                  "False",
                  "False",
                  "True",
                  "False",
                  "False",
                  "False",
                  "True",
                  "False",
                  "False",
                  "True",
                  "False",
                  "False",
                  "False",
                  "False",
                  "2493.8475",
                  "2537.45",
                  "220.53462386625827",
                  "1",
                  "1",
                  "2",
                  "2",
                  "1"
                ],
                [
                  "4",
                  "13.3",
                  "1803.6",
                  "8",
                  "1.37",
                  "0.0",
                  "256.0",
                  "0.0",
                  "0.0",
                  "256.0",
                  "2560",
                  "1600",
                  "0",
                  "3.1",
                  "True",
                  "False",
                  "False",
                  "False",
                  "False",
                  "False",
                  "False",
                  "False",
                  "False",
                  "False",
                  "False",
                  "False",
                  "False",
                  "False",
                  "False",
                  "False",
                  "False",
                  "False",
                  "False",
                  "False",
                  "False",
                  "True",
                  "False",
                  "False",
                  "False",
                  "True",
                  "False",
                  "False",
                  "True",
                  "False",
                  "False",
                  "True",
                  "False",
                  "1391.9483333333335",
                  "1921.8",
                  "226.98300468106115",
                  "0",
                  "1",
                  "2",
                  "1",
                  "0"
                ]
              ],
              "shape": {
                "columns": 54,
                "rows": 5
              }
            },
            "text/html": [
              "<div>\n",
              "<style scoped>\n",
              "    .dataframe tbody tr th:only-of-type {\n",
              "        vertical-align: middle;\n",
              "    }\n",
              "\n",
              "    .dataframe tbody tr th {\n",
              "        vertical-align: top;\n",
              "    }\n",
              "\n",
              "    .dataframe thead th {\n",
              "        text-align: right;\n",
              "    }\n",
              "</style>\n",
              "<table border=\"1\" class=\"dataframe\">\n",
              "  <thead>\n",
              "    <tr style=\"text-align: right;\">\n",
              "      <th></th>\n",
              "      <th>Inches</th>\n",
              "      <th>Price_euros</th>\n",
              "      <th>Ram (GB)</th>\n",
              "      <th>Weight (kg)</th>\n",
              "      <th>HDD (GB)</th>\n",
              "      <th>SSD (GB)</th>\n",
              "      <th>Hybrid (GB)</th>\n",
              "      <th>Flash Storage (GB)</th>\n",
              "      <th>Total_Storage (GB)</th>\n",
              "      <th>Screen_Width</th>\n",
              "      <th>...</th>\n",
              "      <th>Gpu_Brand_Intel</th>\n",
              "      <th>Gpu_Brand_Nvidia</th>\n",
              "      <th>Cpu_Name_TE</th>\n",
              "      <th>Gpu_Name_TE</th>\n",
              "      <th>PPI</th>\n",
              "      <th>Is_High_RAM</th>\n",
              "      <th>Is_SSD</th>\n",
              "      <th>Cpu_Performance_Class_Num</th>\n",
              "      <th>Gpu_Performance_Class_Num</th>\n",
              "      <th>Gpu_Dedicated</th>\n",
              "    </tr>\n",
              "  </thead>\n",
              "  <tbody>\n",
              "    <tr>\n",
              "      <th>0</th>\n",
              "      <td>13.3</td>\n",
              "      <td>1339.69</td>\n",
              "      <td>8</td>\n",
              "      <td>1.37</td>\n",
              "      <td>0.0</td>\n",
              "      <td>128.0</td>\n",
              "      <td>0.0</td>\n",
              "      <td>0.0</td>\n",
              "      <td>128.0</td>\n",
              "      <td>2560</td>\n",
              "      <td>...</td>\n",
              "      <td>True</td>\n",
              "      <td>False</td>\n",
              "      <td>1391.948333</td>\n",
              "      <td>1764.011250</td>\n",
              "      <td>226.983005</td>\n",
              "      <td>0</td>\n",
              "      <td>1</td>\n",
              "      <td>1</td>\n",
              "      <td>1</td>\n",
              "      <td>0</td>\n",
              "    </tr>\n",
              "    <tr>\n",
              "      <th>1</th>\n",
              "      <td>13.3</td>\n",
              "      <td>898.94</td>\n",
              "      <td>8</td>\n",
              "      <td>1.34</td>\n",
              "      <td>0.0</td>\n",
              "      <td>0.0</td>\n",
              "      <td>0.0</td>\n",
              "      <td>128.0</td>\n",
              "      <td>128.0</td>\n",
              "      <td>1440</td>\n",
              "      <td>...</td>\n",
              "      <td>True</td>\n",
              "      <td>False</td>\n",
              "      <td>1391.948333</td>\n",
              "      <td>1022.728000</td>\n",
              "      <td>127.677940</td>\n",
              "      <td>0</td>\n",
              "      <td>0</td>\n",
              "      <td>1</td>\n",
              "      <td>0</td>\n",
              "      <td>0</td>\n",
              "    </tr>\n",
              "    <tr>\n",
              "      <th>2</th>\n",
              "      <td>15.6</td>\n",
              "      <td>575.00</td>\n",
              "      <td>8</td>\n",
              "      <td>1.86</td>\n",
              "      <td>0.0</td>\n",
              "      <td>256.0</td>\n",
              "      <td>0.0</td>\n",
              "      <td>0.0</td>\n",
              "      <td>256.0</td>\n",
              "      <td>1920</td>\n",
              "      <td>...</td>\n",
              "      <td>True</td>\n",
              "      <td>False</td>\n",
              "      <td>919.318083</td>\n",
              "      <td>1141.089823</td>\n",
              "      <td>141.211998</td>\n",
              "      <td>0</td>\n",
              "      <td>1</td>\n",
              "      <td>1</td>\n",
              "      <td>0</td>\n",
              "      <td>0</td>\n",
              "    </tr>\n",
              "    <tr>\n",
              "      <th>3</th>\n",
              "      <td>15.4</td>\n",
              "      <td>2537.45</td>\n",
              "      <td>16</td>\n",
              "      <td>1.83</td>\n",
              "      <td>0.0</td>\n",
              "      <td>512.0</td>\n",
              "      <td>0.0</td>\n",
              "      <td>0.0</td>\n",
              "      <td>512.0</td>\n",
              "      <td>2880</td>\n",
              "      <td>...</td>\n",
              "      <td>False</td>\n",
              "      <td>False</td>\n",
              "      <td>2493.847500</td>\n",
              "      <td>2537.450000</td>\n",
              "      <td>220.534624</td>\n",
              "      <td>1</td>\n",
              "      <td>1</td>\n",
              "      <td>2</td>\n",
              "      <td>2</td>\n",
              "      <td>1</td>\n",
              "    </tr>\n",
              "    <tr>\n",
              "      <th>4</th>\n",
              "      <td>13.3</td>\n",
              "      <td>1803.60</td>\n",
              "      <td>8</td>\n",
              "      <td>1.37</td>\n",
              "      <td>0.0</td>\n",
              "      <td>256.0</td>\n",
              "      <td>0.0</td>\n",
              "      <td>0.0</td>\n",
              "      <td>256.0</td>\n",
              "      <td>2560</td>\n",
              "      <td>...</td>\n",
              "      <td>True</td>\n",
              "      <td>False</td>\n",
              "      <td>1391.948333</td>\n",
              "      <td>1921.800000</td>\n",
              "      <td>226.983005</td>\n",
              "      <td>0</td>\n",
              "      <td>1</td>\n",
              "      <td>2</td>\n",
              "      <td>1</td>\n",
              "      <td>0</td>\n",
              "    </tr>\n",
              "  </tbody>\n",
              "</table>\n",
              "<p>5 rows × 54 columns</p>\n",
              "</div>"
            ],
            "text/plain": [
              "   Inches  Price_euros  Ram (GB)  Weight (kg)  HDD (GB)  SSD (GB)  \\\n",
              "0    13.3      1339.69         8         1.37       0.0     128.0   \n",
              "1    13.3       898.94         8         1.34       0.0       0.0   \n",
              "2    15.6       575.00         8         1.86       0.0     256.0   \n",
              "3    15.4      2537.45        16         1.83       0.0     512.0   \n",
              "4    13.3      1803.60         8         1.37       0.0     256.0   \n",
              "\n",
              "   Hybrid (GB)  Flash Storage (GB)  Total_Storage (GB)  Screen_Width  ...  \\\n",
              "0          0.0                 0.0               128.0          2560  ...   \n",
              "1          0.0               128.0               128.0          1440  ...   \n",
              "2          0.0                 0.0               256.0          1920  ...   \n",
              "3          0.0                 0.0               512.0          2880  ...   \n",
              "4          0.0                 0.0               256.0          2560  ...   \n",
              "\n",
              "   Gpu_Brand_Intel  Gpu_Brand_Nvidia  Cpu_Name_TE  Gpu_Name_TE         PPI  \\\n",
              "0             True             False  1391.948333  1764.011250  226.983005   \n",
              "1             True             False  1391.948333  1022.728000  127.677940   \n",
              "2             True             False   919.318083  1141.089823  141.211998   \n",
              "3            False             False  2493.847500  2537.450000  220.534624   \n",
              "4             True             False  1391.948333  1921.800000  226.983005   \n",
              "\n",
              "   Is_High_RAM  Is_SSD  Cpu_Performance_Class_Num  Gpu_Performance_Class_Num  \\\n",
              "0            0       1                          1                          1   \n",
              "1            0       0                          1                          0   \n",
              "2            0       1                          1                          0   \n",
              "3            1       1                          2                          2   \n",
              "4            0       1                          2                          1   \n",
              "\n",
              "   Gpu_Dedicated  \n",
              "0              0  \n",
              "1              0  \n",
              "2              0  \n",
              "3              1  \n",
              "4              0  \n",
              "\n",
              "[5 rows x 54 columns]"
            ]
          },
          "execution_count": 15,
          "metadata": {},
          "output_type": "execute_result"
        }
      ],
      "source": [
        "df_model.head()"
      ]
    },
    {
      "cell_type": "code",
      "execution_count": 16,
      "id": "cbd18b6c",
      "metadata": {
        "id": "cbd18b6c"
      },
      "outputs": [],
      "source": [
        "# Save feature engineered data\n",
        "df_model.to_csv(\"../data/final/laptops_feature_engineered.csv\", index=False)"
      ]
    }
  ],
  "metadata": {
    "colab": {
      "include_colab_link": true,
      "provenance": []
    },
    "kernelspec": {
      "display_name": "venv (3.10.11)",
      "language": "python",
      "name": "python3"
    },
    "language_info": {
      "codemirror_mode": {
        "name": "ipython",
        "version": 3
      },
      "file_extension": ".py",
      "mimetype": "text/x-python",
      "name": "python",
      "nbconvert_exporter": "python",
      "pygments_lexer": "ipython3",
      "version": "3.10.11"
    }
  },
  "nbformat": 4,
  "nbformat_minor": 5
}
