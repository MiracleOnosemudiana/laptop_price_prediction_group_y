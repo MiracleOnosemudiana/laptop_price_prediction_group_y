{
 "cells": [
  {
   "cell_type": "markdown",
   "id": "bba235a7",
   "metadata": {},
   "source": [
    "**CPE 221Lab -**\n",
    "**- MINI-PROJECT**\n",
    "\n",
    "*(LAPTOP PRICE PREDICTION)*\n",
    "\n",
    "**GROUP Y**\n",
    "\n",
    "***Authors:***\n",
    "**-**\n"
   ]
  },
  {
   "cell_type": "code",
   "execution_count": null,
   "id": "c7f69edc",
   "metadata": {},
   "outputs": [],
   "source": []
  }
 ],
 "metadata": {
  "kernelspec": {
   "display_name": "Python 3",
   "language": "python",
   "name": "python3"
  },
  "language_info": {
   "codemirror_mode": {
    "name": "ipython",
    "version": 3
   },
   "file_extension": ".py",
   "mimetype": "text/x-python",
   "name": "python",
   "nbconvert_exporter": "python",
   "pygments_lexer": "ipython3",
   "version": "3.10.11"
  }
 },
 "nbformat": 4,
 "nbformat_minor": 5
}
